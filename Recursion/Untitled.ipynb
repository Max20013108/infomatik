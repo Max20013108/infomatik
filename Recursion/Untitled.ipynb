{
 "cells": [
  {
   "cell_type": "code",
   "execution_count": 2,
   "metadata": {},
   "outputs": [],
   "source": [
    "def move(f,t):\n",
    "    print(\"Move disc from {} to {}!\".format(f,t))\n"
   ]
  },
  {
   "cell_type": "code",
   "execution_count": 3,
   "metadata": {},
   "outputs": [],
   "source": [
    "def movevia(f,v,t):\n",
    "    move(f,v)\n",
    "    move(v,t)"
   ]
  },
  {
   "cell_type": "code",
   "execution_count": 4,
   "metadata": {},
   "outputs": [],
   "source": [
    "def hanoi(n,f,h,t):\n",
    "    if n==0:\n",
    "        pass\n",
    "    else:\n",
    "        hanoi(n-1,f,t,h)\n",
    "        move(f,t)\n",
    "        hanoi(n-1,h,f,t)"
   ]
  },
  {
   "cell_type": "code",
   "execution_count": 9,
   "metadata": {},
   "outputs": [
    {
     "name": "stdout",
     "output_type": "stream",
     "text": [
      "Move disc from B to A!\n",
      "Move disc from B to C!\n",
      "Move disc from A to C!\n",
      "Move disc from B to A!\n",
      "Move disc from C to B!\n",
      "Move disc from C to A!\n",
      "Move disc from B to A!\n"
     ]
    }
   ],
   "source": [
    "hanoi(3,'B','C','A')"
   ]
  },
  {
   "cell_type": "code",
   "execution_count": null,
   "metadata": {},
   "outputs": [],
   "source": [
    "hanoi()"
   ]
  }
 ],
 "metadata": {
  "kernelspec": {
   "display_name": "Python 3",
   "language": "python",
   "name": "python3"
  },
  "language_info": {
   "codemirror_mode": {
    "name": "ipython",
    "version": 3
   },
   "file_extension": ".py",
   "mimetype": "text/x-python",
   "name": "python",
   "nbconvert_exporter": "python",
   "pygments_lexer": "ipython3",
   "version": "3.6.8"
  }
 },
 "nbformat": 4,
 "nbformat_minor": 2
}
